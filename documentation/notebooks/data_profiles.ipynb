{
 "cells": [
  {
   "source": [
    "# Use `pandas_profiling` to explore the input data"
   ],
   "cell_type": "markdown",
   "metadata": {}
  },
  {
   "cell_type": "code",
   "execution_count": 2,
   "metadata": {},
   "outputs": [],
   "source": [
    "from pandas_profiling import ProfileReport\n",
    "\n",
    "import regional_transit_screening_platform as rtsp"
   ]
  },
  {
   "cell_type": "code",
   "execution_count": 4,
   "metadata": {},
   "outputs": [],
   "source": [
    "query_septa_ridership = \"SELECT * FROM passloads_segmentlevel_2020_07\"\n",
    "\n",
    "df = rtsp.db.query_as_df(query_septa_ridership)"
   ]
  },
  {
   "cell_type": "code",
   "execution_count": 7,
   "metadata": {},
   "outputs": [],
   "source": [
    "ridership_profile = ProfileReport(df, title=\"SEPTA Ridership 2020-07\", explorative=True)"
   ]
  },
  {
   "cell_type": "code",
   "execution_count": 10,
   "metadata": {
    "tags": []
   },
   "outputs": [
    {
     "output_type": "stream",
     "name": "stderr",
     "text": "Export report to file: 100%|██████████| 1/1 [00:00<00:00, 99.53it/s]\n"
    }
   ],
   "source": [
    "ridership_profile.to_file(\"../data_profiles/ridership_septa_2020_07.html\")"
   ]
  }
 ],
 "metadata": {
  "kernelspec": {
   "display_name": "Python 3.8.5 64-bit ('RTSP': conda)",
   "language": "python",
   "name": "python38564bitrtspconda3177d114cb5049d587b7c512ae535e46"
  },
  "language_info": {
   "codemirror_mode": {
    "name": "ipython",
    "version": 3
   },
   "file_extension": ".py",
   "mimetype": "text/x-python",
   "name": "python",
   "nbconvert_exporter": "python",
   "pygments_lexer": "ipython3",
   "version": "3.8.5-final"
  }
 },
 "nbformat": 4,
 "nbformat_minor": 4
}